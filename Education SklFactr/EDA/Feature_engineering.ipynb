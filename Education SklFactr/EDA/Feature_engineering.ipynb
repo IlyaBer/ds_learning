{
 "cells": [
  {
   "cell_type": "code",
   "execution_count": 137,
   "metadata": {},
   "outputs": [
    {
     "data": {
      "text/plain": [
       "94    9372610.0\n",
       "Name: area, dtype: float64"
      ]
     },
     "execution_count": 137,
     "metadata": {},
     "output_type": "execute_result"
    }
   ],
   "source": [
    "import pandas as pd\n",
    "data= pd.read_csv('data/wine_cleared.csv')\n",
    "\n",
    "# для удобства сразу преобразуем признак в int\n",
    "data['price_round'] = data['price'].round().astype(int)\n",
    "\n",
    "\n",
    "regex = '\\d{4}' # регулярное выражение для нахождения чисел\n",
    "data['year'] = data['title'].str.findall(regex).str.get(0) # data['title'].str.findall(regex) результатом выполнения является список найденных цифр. \n",
    "                                            # Поэтому необходимо извлечь первый элемент из списка найденных методом str.get(0), где 0 — первый элемент в списке найденных чисел\n",
    "'''Разберём регулярное выражение \\d+:\n",
    "\n",
    "    \\d — класс символов, обозначает соответствие цифрам в диапазоне цифр [0-9];\n",
    "    {4} в шаблоне означает искать четыре вхождения символа, указанного ранее. В нашем случае это будут четырехзначные числа.\n",
    "\n",
    "Таким образом, \\d{4} означает четырехзначных чисел в заданной строке.'''\n",
    "\n",
    "data['is_usa'] = data['country'].apply(lambda x: 1 if x == 'US' else 0) \n",
    "'''В наборе данных винных обзоров самая популярная страна-производитель вина — США. Возможно, это не случайность, и факт производства в США влияет на рейтинг вина. Выделим этот факт.'''\n",
    "\n",
    "data['is_france'] = data['country'].apply(lambda x: 1 if x == 'France' else 0)\n",
    "data['is_italy'] = data['country'].apply(lambda x: 1 if x == 'Italy' else 0)\n",
    "\n",
    "data['year'] = data['year'].fillna(0)\n",
    "data['year'] = data['year'].astype(int)\n",
    "data['old_wine'] = data['year'].apply(lambda x: 1 if 0 < x < 2010 else 0) \n",
    "data['old_wine'].sum()\n",
    "\n",
    "regex_loc='\\((.*?)\\)'# '\\(.+\\)' написал изначально я. Если написать вот так '\\(.*?\\)' то будет результат вместе с внешними скобками. Колдунство\n",
    "\n",
    "data['locality']=data['title'].str.findall(regex_loc)\n",
    "\n",
    "\n",
    "\n",
    "#####################       добавим население в датасет, чтобы проследить зависимость качества вина от кол-ва населения страны(узкой специализации) #############\n",
    "\n",
    "country_population = pd.read_csv('data\\country_population.csv', sep=';')\n",
    "\n",
    "data=data.join(country_population.set_index('country'), on='country')\n",
    "\n",
    "#####################       добавим площадь страны      ###############\n",
    "\n",
    "country_area = pd.read_csv('data\\country_area.csv', sep=';')\n",
    "\n",
    "data=data.join(country_area.set_index('country'), on='country')\n",
    "\n",
    "data[data['title']=='Gård 2014 Grand Klasse Reserve Lawrence Vineyards Viognier (Columbia Valley (WA))']['area']\n",
    "\n"
   ]
  }
 ],
 "metadata": {
  "kernelspec": {
   "display_name": "Python 3.9.10 64-bit",
   "language": "python",
   "name": "python3"
  },
  "language_info": {
   "codemirror_mode": {
    "name": "ipython",
    "version": 3
   },
   "file_extension": ".py",
   "mimetype": "text/x-python",
   "name": "python",
   "nbconvert_exporter": "python",
   "pygments_lexer": "ipython3",
   "version": "3.9.10"
  },
  "orig_nbformat": 4,
  "vscode": {
   "interpreter": {
    "hash": "ea6cff6b1432c57be01d0596ef617ffcc265c384cd54cb1eb695ffe6a918d831"
   }
  }
 },
 "nbformat": 4,
 "nbformat_minor": 2
}
